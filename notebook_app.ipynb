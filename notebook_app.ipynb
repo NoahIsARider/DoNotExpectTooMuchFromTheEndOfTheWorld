{
  "cells": [
    {
      "cell_type": "code",
      "execution_count": null,
      "metadata": {},
      "source": [
        "import gradio as gr\n",
        "from transformers import AutoModelForCausalLM, AutoTokenizer\n",
        "import torch\n",
        "from peft import PeftModel\n",
        "\n",
        "def modelscope_quickstart(prompt):\n",
        "    model_path = 'Meta-Llama-3.1-8B-Instruct'\n",
        "    lora_path = './output/llama3_1_instruct_lora/checkpoint-18'  # 这里改为你的 lora 输出对应 checkpoint 地址\n",
        "\n",
        "    # 加载 tokenizer\n",
        "    tokenizer = AutoTokenizer.from_pretrained(model_path, trust_remote_code=True)\n",
        "\n",
        "    # 加载模型\n",
        "    model = AutoModelForCausalLM.from_pretrained(model_path, device_map='auto', torch_dtype=torch.bfloat16, trust_remote_code=True).eval()\n",
        "\n",
        "    # 加载 LoRA 权重\n",
        "    model = PeftModel.from_pretrained(model, model_id=lora_path)\n",
        "\n",
        "    messages = [\n",
        "        {\"role\": \"system\", \"content\": \"假设你是一位政治哲学评论家\"},\n",
        "        {\"role\": \"user\", \"content\": prompt}\n",
        "    ]\n",
        "\n",
        "    input_ids = tokenizer.apply_chat_template(messages, tokenize=False, add_generation_prompt=True)\n",
        "\n",
        "    # 将输入和模型移动到设备（GPU 或 CPU）\n",
        "    device = torch.device('cuda' if torch.cuda.is_available() else 'cpu')\n",
        "    model_inputs = tokenizer([input_ids], return_tensors='pt').to(device)\n",
        "    model.to(device)\n",
        "\n",
        "    generated_ids = model.generate(model_inputs.input_ids, max_new_tokens=512)\n",
        "\n",
        "    # 提取生成的文本\n",
        "    generated_ids = [\n",
        "        output_ids[len(input_ids):] for input_ids, output_ids in zip(model_inputs.input_ids, generated_ids)\n",
        "    ]\n",
        "    response = tokenizer.batch_decode(generated_ids, skip_special_tokens=True)[0]\n",
        "    return response\n",
        "\n",
        "# 创建 Gradio 接口\n",
        "demo = gr.Interface(fn=modelscope_quickstart, inputs=\"text\", outputs=\"text\")\n",
        "demo.launch()"
      ],
      "outputs": []
    },
    {
      "cell_type": "markdown",
      "metadata": {},
      "source": [
        "### 说明\n",
        "1. 确保您已安装 `gradio`, `transformers`, `torch`, 和 `peft` 库。\n",
        "2. 确保模型路径和 LoRA 路径正确。\n",
        "3. 运行此 Notebook 后，Gradio 接口将启动，您可以通过浏览器访问并输入文本进行测试。"
      ]
    }
  ],
  "metadata": {
    "kernelspec": {
      "display_name": "Python 3",
      "language": "python",
      "name": "python3"
    },
    "language_info": {
      "name": "python",
      "version": "3.8.10",
      "mimetype": "text/x-python",
      "file_extension": ".py",
      "pygments_lexer": "ipython3",
      "codemirror_mode": {
        "name": "ipython",
        "version": 3
      },
      "nbconvert_exporter": "python"
    }
  },
  "nbformat": 4,
  "nbformat_minor": 4
}
